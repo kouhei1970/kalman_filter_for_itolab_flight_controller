import numpy as np

A=np.matrix([[-1,1,-1,1],[1,1,-1,-1],[-1,1,-11,1],[1,1,1,1]])
print(np.linalg.inv(A))



